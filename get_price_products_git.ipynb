{
 "cells": [
  {
   "attachments": {},
   "cell_type": "markdown",
   "metadata": {},
   "source": [
    "### IMPORTANDO BIBLIOTECAS/MÓDULOS"
   ]
  },
  {
   "cell_type": "code",
   "execution_count": 33,
   "metadata": {},
   "outputs": [],
   "source": [
    "import pandas as pd\n",
    "from selenium import webdriver\n",
    "from selenium.webdriver.common.keys import Keys\n",
    "from selenium.webdriver.common.by import By"
   ]
  },
  {
   "attachments": {},
   "cell_type": "markdown",
   "metadata": {},
   "source": [
    "### DEFININDO A BASE COM OS SITES DE CONSULTA"
   ]
  },
  {
   "cell_type": "code",
   "execution_count": 34,
   "metadata": {},
   "outputs": [],
   "source": [
    "df = {'Loja':['Magazine', 'Casas Bahia', 'Fast Shop', 'Ponto Frio', 'Americanas', 'Extra', 'Kabum', 'Amazon'],\n",
    "      'Site':[\n",
    "          r'https://www.magazineluiza.com.br/apple-iphone-14-pro-128gb-roxo-profundo-61-48mp-ios-5g/p/235923500/te/ip14/?&force=5&seller_id=magazineluiza&utm_source=google&utm_medium=pla&utm_campaign=&partner_id=68708&gclid=Cj0KCQiAlKmeBhCkARIsAHy7WVuIWvysqIm7luY2-2jB9_DvRD_d5x9Vxg_rrpzbAdSQQRPP6T5OY04aAiUOEALw_wcB&gclsrc=aw.ds',\n",
    "          r'https://www.casasbahia.com.br/apple-iphone-14-pro-128gb-roxo-profundo-55054464/p/55054464?utm_medium=Cpc&utm_source=GP_PLA&IdSku=55054464&idLojista=10037&tipoLojista=1P&&utm_campaign=gg_pmax_core_tele_apostas&gclid=Cj0KCQiAlKmeBhCkARIsAHy7WVsC1Ubf1dM624uXLcEiUkzOvmnjfm4pZGljt1F3lT0Qmx38S6zqvJoaAoWHEALw_wcB&gclsrc=aw.ds',\n",
    "          r'https://www.fastshop.com.br/web/p/d/AEMQ0G3BEARXO_PRD/iphone-14-pro-apple-128gb-roxo-profundo-tela-de-61-5g-camera-tripla-de-48mp--12mp--12mp---aemq0g3bearxoprd?partner=parceiro-google&partner=parceiro-Google&cm_mmc=cpc_Shopping-_-AEMQ0G3BEARXO_PRD&cm_mmc=cpc_Google-_-SP_MAX_CAT_AE_iPhone_14&gclid=Cj0KCQiAlKmeBhCkARIsAHy7WVtWzNT3AdygApmDoWUOxks3pswkvSpOi8ow7AteT7SPAzaWp3IUB24aAnF3EALw_wcB',\n",
    "          r'https://www.pontofrio.com.br/apple-iphone-14-pro-128gb-roxo-profundo-55054464/p/55054464?utm_medium=cpc&utm_source=GP_PLA&IdSku=55054464&idLojista=16&tipoLojista=1P&&utm_campaign=gg_pmax_core_tele_apple&gclid=Cj0KCQiAlKmeBhCkARIsAHy7WVuzG6Vrmdaz_5vBh023eQBU4QiFmZBjHXUVXQqczRsM4zCXtbe5DQIaAmWJEALw_wcB&gclsrc=aw.ds',\n",
    "          r'https://www.americanas.com.br/produto/5881866461?epar=bp_pl_00_go_tel_pmax_iphone_8ad&opn=YSMESP&WT.srch=1&offerId=633f92e59064f2befb7df5db&gclsrc=aw.ds&gclid=Cj0KCQiAlKmeBhCkARIsAHy7WVvcNCbxF2hmhh3C-KWQSfCuBNXSde2U31fFVscE6akEH4ksON7wzMMaAlJeEALw_wcB&cor=ROXO&condition=NEW',\n",
    "          r'https://www.extra.com.br/apple-iphone-14-pro-128gb-roxo-profundo-55054464/p/55054464?utm_medium=cpc&utm_source=GP_PLA&IdSku=55054464&idLojista=15&tipoLojista=1P&&utm_campaign=gg_pmax_core_tele_apple&gclid=Cj0KCQiAlKmeBhCkARIsAHy7WVstZxMAAjvT19UGyjRxxu3krIozT0XBz35eGC9pDV3iDPCiEbOIj_waAhj5EALw_wcB&gclsrc=aw.ds',\n",
    "          r'https://www.kabum.com.br/produto/398940/apple-iphone-14-pro-128gb-roxo-profundo-6-1-48mp?gclid=Cj0KCQiAlKmeBhCkARIsAHy7WVs6z5-5M1Sw5V83Sjsrcnavt__6yRYO8_RjMk6a1PkA-YRSZfQIgnkaAudSEALw_wcB',\n",
    "          r'https://www.amazon.com.br/Apple-iPhone-Pro-128-Preto-espacial/dp/B0BDWB3XZ7/ref=asc_df_B0BDWB3XZ7/?tag=googleshopp00-20&linkCode=df0&hvadid=379727795989&hvpos=&hvnetw=g&hvrand=8730405083386423483&hvpone=&hvptwo=&hvqmt=&hvdev=c&hvdvcmdl=&hvlocint=&hvlocphy=1001566&hvtargid=pla-1835024179180&psc=1'],\n",
    "        'Objeto':[\n",
    "            'sc-kpDqfm.eCPtRw.sc-hoLEA.kXWuGr',\n",
    "            'dsvia-text.css-1luipqs',\n",
    "            'price-fraction',\n",
    "            'dsvia-text.css-1mebaoa',\n",
    "            'styles__PriceText-sc-1o94vuj-0.kbIkrl.priceSales',\n",
    "            'dsvia-text.css-aesmfb',\n",
    "            'sc-d6a30908-1.WlsMM.finalPrice',\n",
    "            'a-price-whole'\n",
    "        ]}\n",
    "\n",
    "df = pd.DataFrame(df)"
   ]
  },
  {
   "attachments": {},
   "cell_type": "markdown",
   "metadata": {},
   "source": [
    "### CONSULTANDO NOS SITES (O PRODUTO ESCOLHIDO FOI O IPHONE 14 PRO 128GB ROXO)"
   ]
  },
  {
   "cell_type": "code",
   "execution_count": 35,
   "metadata": {},
   "outputs": [],
   "source": [
    "driver = webdriver.Chrome()\n",
    "driver.set_window_position(-10000,0)\n",
    "\n",
    "Valor = []\n",
    "\n",
    "ajuste_preco = lambda x: x.replace('R$ ','')\n",
    "\n",
    "for i, item in df.iterrows():\n",
    "    driver.get(item['Site'])\n",
    "    elementos = driver.find_elements(By.CLASS_NAME, item['Objeto'])\n",
    "    if elementos:\n",
    "        preco = driver.find_element(By.CLASS_NAME, item['Objeto']).text\n",
    "        Valor.append(ajuste_preco(preco))\n",
    "    else:\n",
    "        preco = \"Não Localizado\"\n",
    "        Valor.append(preco)"
   ]
  },
  {
   "cell_type": "code",
   "execution_count": 37,
   "metadata": {},
   "outputs": [
    {
     "data": {
      "text/html": [
       "<div>\n",
       "<style scoped>\n",
       "    .dataframe tbody tr th:only-of-type {\n",
       "        vertical-align: middle;\n",
       "    }\n",
       "\n",
       "    .dataframe tbody tr th {\n",
       "        vertical-align: top;\n",
       "    }\n",
       "\n",
       "    .dataframe thead th {\n",
       "        text-align: right;\n",
       "    }\n",
       "</style>\n",
       "<table border=\"1\" class=\"dataframe\">\n",
       "  <thead>\n",
       "    <tr style=\"text-align: right;\">\n",
       "      <th></th>\n",
       "      <th>Loja</th>\n",
       "      <th>Precos</th>\n",
       "    </tr>\n",
       "  </thead>\n",
       "  <tbody>\n",
       "    <tr>\n",
       "      <th>2</th>\n",
       "      <td>Fast Shop</td>\n",
       "      <td>7.099</td>\n",
       "    </tr>\n",
       "    <tr>\n",
       "      <th>1</th>\n",
       "      <td>Casas Bahia</td>\n",
       "      <td>7.099,00</td>\n",
       "    </tr>\n",
       "    <tr>\n",
       "      <th>3</th>\n",
       "      <td>Ponto Frio</td>\n",
       "      <td>7.099,00</td>\n",
       "    </tr>\n",
       "    <tr>\n",
       "      <th>5</th>\n",
       "      <td>Extra</td>\n",
       "      <td>7.099,00</td>\n",
       "    </tr>\n",
       "    <tr>\n",
       "      <th>0</th>\n",
       "      <td>Magazine</td>\n",
       "      <td>7.199,10</td>\n",
       "    </tr>\n",
       "    <tr>\n",
       "      <th>6</th>\n",
       "      <td>Kabum</td>\n",
       "      <td>7.199,10</td>\n",
       "    </tr>\n",
       "    <tr>\n",
       "      <th>7</th>\n",
       "      <td>Amazon</td>\n",
       "      <td>9.299</td>\n",
       "    </tr>\n",
       "    <tr>\n",
       "      <th>4</th>\n",
       "      <td>Americanas</td>\n",
       "      <td>Não Localizado</td>\n",
       "    </tr>\n",
       "  </tbody>\n",
       "</table>\n",
       "</div>"
      ],
      "text/plain": [
       "          Loja          Precos\n",
       "2    Fast Shop           7.099\n",
       "1  Casas Bahia        7.099,00\n",
       "3   Ponto Frio        7.099,00\n",
       "5        Extra        7.099,00\n",
       "0     Magazine        7.199,10\n",
       "6        Kabum        7.199,10\n",
       "7       Amazon           9.299\n",
       "4   Americanas  Não Localizado"
      ]
     },
     "execution_count": 37,
     "metadata": {},
     "output_type": "execute_result"
    }
   ],
   "source": [
    "df['Precos'] = Valor\n",
    "df[['Loja', 'Precos']].sort_values('Precos', ascending=True)"
   ]
  }
 ],
 "metadata": {
  "kernelspec": {
   "display_name": "Python 3",
   "language": "python",
   "name": "python3"
  },
  "language_info": {
   "codemirror_mode": {
    "name": "ipython",
    "version": 3
   },
   "file_extension": ".py",
   "mimetype": "text/x-python",
   "name": "python",
   "nbconvert_exporter": "python",
   "pygments_lexer": "ipython3",
   "version": "3.10.11"
  },
  "orig_nbformat": 4,
  "vscode": {
   "interpreter": {
    "hash": "afb734500600fd355917ca529030176ea0ca205570884b88f2f6f7d791fd3fbe"
   }
  }
 },
 "nbformat": 4,
 "nbformat_minor": 2
}
